{
 "cells": [
  {
   "cell_type": "code",
   "execution_count": 1,
   "metadata": {},
   "outputs": [],
   "source": [
    "import numpy as np\n",
    "import pandas as pd\n",
    "import matplotlib.pyplot as plt\n",
    "from scipy.optimize import minimize\n",
    "from scipy import stats"
   ]
  },
  {
   "cell_type": "code",
   "execution_count": 2,
   "metadata": {},
   "outputs": [
    {
     "data": {
      "text/html": [
       "<div>\n",
       "<style scoped>\n",
       "    .dataframe tbody tr th:only-of-type {\n",
       "        vertical-align: middle;\n",
       "    }\n",
       "\n",
       "    .dataframe tbody tr th {\n",
       "        vertical-align: top;\n",
       "    }\n",
       "\n",
       "    .dataframe thead th {\n",
       "        text-align: right;\n",
       "    }\n",
       "</style>\n",
       "<table border=\"1\" class=\"dataframe\">\n",
       "  <thead>\n",
       "    <tr style=\"text-align: right;\">\n",
       "      <th></th>\n",
       "      <th>x</th>\n",
       "      <th>y</th>\n",
       "      <th>y_std</th>\n",
       "    </tr>\n",
       "  </thead>\n",
       "  <tbody>\n",
       "    <tr>\n",
       "      <th>0</th>\n",
       "      <td>0.5488</td>\n",
       "      <td>0.8243</td>\n",
       "      <td>0.0529</td>\n",
       "    </tr>\n",
       "    <tr>\n",
       "      <th>1</th>\n",
       "      <td>0.7152</td>\n",
       "      <td>1.1299</td>\n",
       "      <td>0.1548</td>\n",
       "    </tr>\n",
       "    <tr>\n",
       "      <th>2</th>\n",
       "      <td>0.6028</td>\n",
       "      <td>0.8912</td>\n",
       "      <td>0.0912</td>\n",
       "    </tr>\n",
       "    <tr>\n",
       "      <th>3</th>\n",
       "      <td>0.5449</td>\n",
       "      <td>0.7326</td>\n",
       "      <td>0.1137</td>\n",
       "    </tr>\n",
       "    <tr>\n",
       "      <th>4</th>\n",
       "      <td>0.4237</td>\n",
       "      <td>0.7115</td>\n",
       "      <td>0.0038</td>\n",
       "    </tr>\n",
       "    <tr>\n",
       "      <th>5</th>\n",
       "      <td>0.6459</td>\n",
       "      <td>1.0423</td>\n",
       "      <td>0.1235</td>\n",
       "    </tr>\n",
       "    <tr>\n",
       "      <th>6</th>\n",
       "      <td>0.4376</td>\n",
       "      <td>0.7381</td>\n",
       "      <td>0.1224</td>\n",
       "    </tr>\n",
       "    <tr>\n",
       "      <th>7</th>\n",
       "      <td>0.8918</td>\n",
       "      <td>1.2995</td>\n",
       "      <td>0.1234</td>\n",
       "    </tr>\n",
       "    <tr>\n",
       "      <th>8</th>\n",
       "      <td>0.9637</td>\n",
       "      <td>1.2154</td>\n",
       "      <td>0.1887</td>\n",
       "    </tr>\n",
       "    <tr>\n",
       "      <th>9</th>\n",
       "      <td>0.3834</td>\n",
       "      <td>0.6087</td>\n",
       "      <td>0.1364</td>\n",
       "    </tr>\n",
       "    <tr>\n",
       "      <th>10</th>\n",
       "      <td>0.7917</td>\n",
       "      <td>1.1072</td>\n",
       "      <td>0.0719</td>\n",
       "    </tr>\n",
       "    <tr>\n",
       "      <th>11</th>\n",
       "      <td>0.5289</td>\n",
       "      <td>0.8154</td>\n",
       "      <td>0.0874</td>\n",
       "    </tr>\n",
       "    <tr>\n",
       "      <th>12</th>\n",
       "      <td>0.5680</td>\n",
       "      <td>0.7820</td>\n",
       "      <td>0.1395</td>\n",
       "    </tr>\n",
       "    <tr>\n",
       "      <th>13</th>\n",
       "      <td>0.9256</td>\n",
       "      <td>1.2761</td>\n",
       "      <td>0.0120</td>\n",
       "    </tr>\n",
       "    <tr>\n",
       "      <th>14</th>\n",
       "      <td>0.0710</td>\n",
       "      <td>0.2337</td>\n",
       "      <td>0.1334</td>\n",
       "    </tr>\n",
       "    <tr>\n",
       "      <th>15</th>\n",
       "      <td>0.0871</td>\n",
       "      <td>0.1807</td>\n",
       "      <td>0.1341</td>\n",
       "    </tr>\n",
       "    <tr>\n",
       "      <th>16</th>\n",
       "      <td>0.0202</td>\n",
       "      <td>0.0630</td>\n",
       "      <td>0.0421</td>\n",
       "    </tr>\n",
       "    <tr>\n",
       "      <th>17</th>\n",
       "      <td>0.8326</td>\n",
       "      <td>1.2118</td>\n",
       "      <td>0.0258</td>\n",
       "    </tr>\n",
       "    <tr>\n",
       "      <th>18</th>\n",
       "      <td>0.7782</td>\n",
       "      <td>1.0834</td>\n",
       "      <td>0.0631</td>\n",
       "    </tr>\n",
       "    <tr>\n",
       "      <th>19</th>\n",
       "      <td>0.8700</td>\n",
       "      <td>1.2433</td>\n",
       "      <td>0.0727</td>\n",
       "    </tr>\n",
       "    <tr>\n",
       "      <th>20</th>\n",
       "      <td>0.9786</td>\n",
       "      <td>1.4330</td>\n",
       "      <td>0.1140</td>\n",
       "    </tr>\n",
       "    <tr>\n",
       "      <th>21</th>\n",
       "      <td>0.7992</td>\n",
       "      <td>1.1750</td>\n",
       "      <td>0.0877</td>\n",
       "    </tr>\n",
       "    <tr>\n",
       "      <th>22</th>\n",
       "      <td>0.4615</td>\n",
       "      <td>0.9862</td>\n",
       "      <td>0.1977</td>\n",
       "    </tr>\n",
       "    <tr>\n",
       "      <th>23</th>\n",
       "      <td>0.7805</td>\n",
       "      <td>1.1181</td>\n",
       "      <td>0.0204</td>\n",
       "    </tr>\n",
       "    <tr>\n",
       "      <th>24</th>\n",
       "      <td>0.1183</td>\n",
       "      <td>0.2984</td>\n",
       "      <td>0.0418</td>\n",
       "    </tr>\n",
       "    <tr>\n",
       "      <th>25</th>\n",
       "      <td>0.6399</td>\n",
       "      <td>0.9602</td>\n",
       "      <td>0.0323</td>\n",
       "    </tr>\n",
       "    <tr>\n",
       "      <th>26</th>\n",
       "      <td>0.1434</td>\n",
       "      <td>0.2053</td>\n",
       "      <td>0.1306</td>\n",
       "    </tr>\n",
       "    <tr>\n",
       "      <th>27</th>\n",
       "      <td>0.9447</td>\n",
       "      <td>1.2868</td>\n",
       "      <td>0.0507</td>\n",
       "    </tr>\n",
       "    <tr>\n",
       "      <th>28</th>\n",
       "      <td>0.5218</td>\n",
       "      <td>0.8090</td>\n",
       "      <td>0.0933</td>\n",
       "    </tr>\n",
       "    <tr>\n",
       "      <th>29</th>\n",
       "      <td>0.4147</td>\n",
       "      <td>0.7025</td>\n",
       "      <td>0.0489</td>\n",
       "    </tr>\n",
       "  </tbody>\n",
       "</table>\n",
       "</div>"
      ],
      "text/plain": [
       "         x       y   y_std\n",
       "0   0.5488  0.8243  0.0529\n",
       "1   0.7152  1.1299  0.1548\n",
       "2   0.6028  0.8912  0.0912\n",
       "3   0.5449  0.7326  0.1137\n",
       "4   0.4237  0.7115  0.0038\n",
       "5   0.6459  1.0423  0.1235\n",
       "6   0.4376  0.7381  0.1224\n",
       "7   0.8918  1.2995  0.1234\n",
       "8   0.9637  1.2154  0.1887\n",
       "9   0.3834  0.6087  0.1364\n",
       "10  0.7917  1.1072  0.0719\n",
       "11  0.5289  0.8154  0.0874\n",
       "12  0.5680  0.7820  0.1395\n",
       "13  0.9256  1.2761  0.0120\n",
       "14  0.0710  0.2337  0.1334\n",
       "15  0.0871  0.1807  0.1341\n",
       "16  0.0202  0.0630  0.0421\n",
       "17  0.8326  1.2118  0.0258\n",
       "18  0.7782  1.0834  0.0631\n",
       "19  0.8700  1.2433  0.0727\n",
       "20  0.9786  1.4330  0.1140\n",
       "21  0.7992  1.1750  0.0877\n",
       "22  0.4615  0.9862  0.1977\n",
       "23  0.7805  1.1181  0.0204\n",
       "24  0.1183  0.2984  0.0418\n",
       "25  0.6399  0.9602  0.0323\n",
       "26  0.1434  0.2053  0.1306\n",
       "27  0.9447  1.2868  0.0507\n",
       "28  0.5218  0.8090  0.0933\n",
       "29  0.4147  0.7025  0.0489"
      ]
     },
     "execution_count": 2,
     "metadata": {},
     "output_type": "execute_result"
    }
   ],
   "source": [
    "# read in data file\n",
    "data = pd.read_csv('data.txt', delimiter = \"\\t\")\n",
    "data"
   ]
  },
  {
   "cell_type": "code",
   "execution_count": 3,
   "metadata": {},
   "outputs": [
    {
     "data": {
      "text/plain": [
       "Text(0.5, 1.0, 'y vs x')"
      ]
     },
     "execution_count": 3,
     "metadata": {},
     "output_type": "execute_result"
    },
    {
     "data": {
      "image/png": "[encoded data removed]",
      "text/plain": [
       "<Figure size 432x288 with 1 Axes>"
      ]
     },
     "metadata": {
      "needs_background": "light"
     },
     "output_type": "display_data"
    }
   ],
   "source": [
    "# plot data from file\n",
    "plt.errorbar(data.x, data.y,data.y_std,lw=0,elinewidth=1,capsize=1,marker='.',markersize=8)\n",
    "plt.xlabel('x')\n",
    "plt.ylabel('y')\n",
    "plt.title('y vs x')"
   ]
  },
  {
   "cell_type": "code",
   "execution_count": 4,
   "metadata": {},
   "outputs": [],
   "source": [
    "# negative log likelihood function\n",
    "def negLL(params,x,y,std):\n",
    "    a = params[0]\n",
    "    b = params[1]\n",
    "    c = params[2]\n",
    "    yEst = a + b*x + c*x**2\n",
    "    return (-np.sum(stats.norm.logpdf(y,yEst,std)))"
   ]
  },
  {
   "cell_type": "code",
   "execution_count": 5,
   "metadata": {},
   "outputs": [
    {
     "name": "stdout",
     "output_type": "stream",
     "text": [
      "      fun: -46.23630227420975\n",
      " hess_inv: array([[ 0.00111804, -0.00387796,  0.00294209],\n",
      "       [-0.00387796,  0.01381781, -0.01072338],\n",
      "       [ 0.00294209, -0.01072338,  0.00857502]])\n",
      "      jac: array([-9.77516174e-05, -1.43051147e-06, -4.76837158e-06])\n",
      "  message: 'Desired error not necessarily achieved due to precision loss.'\n",
      "     nfev: 158\n",
      "      nit: 9\n",
      "     njev: 37\n",
      "   status: 2\n",
      "  success: False\n",
      "        x: array([ 0.06881088,  1.69306919, -0.42081526])\n"
     ]
    }
   ],
   "source": [
    "# quadratic model\n",
    "init = [1,1,1] # parameters a,b,c initial conditions\n",
    "model = minimize(negLL, init, args=(data.x,data.y,data.y_std))\n",
    "print(model)"
   ]
  },
  {
   "cell_type": "code",
   "execution_count": 6,
   "metadata": {},
   "outputs": [
    {
     "name": "stdout",
     "output_type": "stream",
     "text": [
      "[ 0.06881088  1.69306919 -0.42081526]\n"
     ]
    }
   ],
   "source": [
    "# best fit a,b,c parameters\n",
    "print(model.x)"
   ]
  },
  {
   "cell_type": "code",
   "execution_count": 7,
   "metadata": {},
   "outputs": [
    {
     "data": {
      "text/plain": [
       "<matplotlib.legend.Legend at 0x7fbcca8f6670>"
      ]
     },
     "execution_count": 7,
     "metadata": {},
     "output_type": "execute_result"
    },
    {
     "data": {
      "image/png": "[encoded data removed]",
      "text/plain": [
       "<Figure size 432x288 with 1 Axes>"
      ]
     },
     "metadata": {
      "needs_background": "light"
     },
     "output_type": "display_data"
    }
   ],
   "source": [
    "# plot data from file\n",
    "plt.errorbar(data.x, data.y,data.y_std,lw=0,elinewidth=1,capsize=1,marker='.',markersize=8)\n",
    "plt.xlabel('x')\n",
    "plt.ylabel('y')\n",
    "plt.title('y vs x')\n",
    "\n",
    "# plot quadratic best fit line\n",
    "a,b,c = model.x\n",
    "x = np.sort(data.x)\n",
    "ymodel = a + b*x + c*x**2\n",
    "plt.plot(x,ymodel,color = 'red', label = 'Best Fit Line')\n",
    "plt.legend()"
   ]
  },
  {
   "cell_type": "code",
   "execution_count": null,
   "metadata": {},
   "outputs": [],
   "source": []
  }
 ],
 "metadata": {
  "kernelspec": {
   "display_name": "Python 3",
   "language": "python",
   "name": "python3"
  },
  "language_info": {
   "codemirror_mode": {
    "name": "ipython",
    "version": 3
   },
   "file_extension": ".py",
   "mimetype": "text/x-python",
   "name": "python",
   "nbconvert_exporter": "python",
   "pygments_lexer": "ipython3",
   "version": "3.8.3"
  }
 },
 "nbformat": 4,
 "nbformat_minor": 4
}
